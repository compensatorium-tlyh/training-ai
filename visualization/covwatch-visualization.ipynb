{
 "cells": [
  {
   "cell_type": "markdown",
   "metadata": {},
   "source": [
    "### Deteksi Keaktifan Penggunaan Covwatch"
   ]
  },
  {
   "cell_type": "code",
   "execution_count": 1,
   "metadata": {},
   "outputs": [
    {
     "name": "stderr",
     "output_type": "stream",
     "text": [
      "/home/ihsannh17/miniconda3/lib/python3.9/site-packages/requests/__init__.py:102: RequestsDependencyWarning: urllib3 (1.26.8) or chardet (5.0.0)/charset_normalizer (2.0.4) doesn't match a supported version!\n",
      "  warnings.warn(\"urllib3 ({}) or chardet ({})/charset_normalizer ({}) doesn't match a supported \"\n"
     ]
    },
    {
     "data": {
      "text/html": [
       "\n",
       "        <iframe\n",
       "            width=\"100%\"\n",
       "            height=\"650\"\n",
       "            src=\"http://localhost:8040/\"\n",
       "            frameborder=\"0\"\n",
       "            allowfullscreen\n",
       "            \n",
       "        ></iframe>\n",
       "        "
      ],
      "text/plain": [
       "<IPython.lib.display.IFrame at 0x7f66703419a0>"
      ]
     },
     "metadata": {},
     "output_type": "display_data"
    }
   ],
   "source": [
    "# Biomarker-based interactive dropdown\n",
    "from dash import Dash, html, dcc, Input, Output, callback\n",
    "import pandas as pd\n",
    "import plotly.graph_objects as go\n",
    "from plotly.subplots import make_subplots\n",
    "\n",
    "external_stylesheets = ['https://codepen.io/chriddyp/pen/bWLwgP.css']\n",
    "\n",
    "app = Dash(__name__, external_stylesheets=external_stylesheets)\n",
    "\n",
    "biomarkers = [\"SpO2\", \"BP Dia\", \"BP Sys\", \"HRV\", \"Stress\", \"HR\", \"Body Temp\"]\n",
    "labels = [1, 0.75, 0.5, 0.25, 0]\n",
    "markers = [\"circle\", \"circle-open\", \"cross-thin-open\", \"x-open\", \"x\"]\n",
    "\n",
    "# Read the data\n",
    "file_label = \"/home/ihsannh17/Downloads/RMP/github-repos/etc/2023-12-(04-14)_Label.csv\"\n",
    "df_raw = pd.read_csv(file_label)\n",
    "\n",
    "# Merge Name and Device Code\n",
    "df_raw['Name_Device'] = df_raw['Name'] + ' ' + df_raw['Device Code']\n",
    "df_raw[\"Time (WIB)\"] = pd.to_datetime(df_raw[\"Time (WIB)\"])\n",
    "\n",
    "# Get unique names for grouping\n",
    "unique_names = pd.Index(df_raw['Name_Device'].unique())\n",
    "\n",
    "app.layout = html.Div([\n",
    "    html.Div([\n",
    "        html.Label(\"Select Biomarker:\"),\n",
    "        dcc.Dropdown(\n",
    "            options=[{'label': biomarker, 'value': biomarker} for biomarker in biomarkers],\n",
    "            value=biomarkers[0],\n",
    "            id='biomarker-dropdown'\n",
    "        ),\n",
    "        # html.Label(\"Select Labels:\"),\n",
    "        dcc.Checklist(\n",
    "            options=[{'label': f'Label {label}', 'value': label} for label in labels],\n",
    "            value=labels,\n",
    "            id='label-checkbox',\n",
    "            inline=True\n",
    "        ),\n",
    "        # html.Label(\"Select People:\"),\n",
    "        dcc.Checklist(\n",
    "            options=[{'label': person.split()[0], 'value': person} for person in unique_names],\n",
    "            value=unique_names,\n",
    "            id='person-checkbox',\n",
    "            inline=True,\n",
    "            style={'columnCount': 6, 'width': '50000px'}\n",
    "        )\n",
    "    ], style={'width': '90%', 'margin': '0 auto', 'padding': '1px', 'color': 'black'}),\n",
    "\n",
    "    dcc.Graph(id='biomarker-graph')\n",
    "], style={'backgroundColor': '#F4F6F8'})\n",
    "\n",
    "\n",
    "@callback(\n",
    "    Output('biomarker-graph', 'figure'),\n",
    "    Input('biomarker-dropdown', 'value'),\n",
    "    Input('label-checkbox', 'value'),\n",
    "    Input('person-checkbox', 'value')\n",
    ")\n",
    "def update_graph(biomarker, selected_labels, selected_people):\n",
    "    fig = make_subplots(rows=1, cols=1, shared_xaxes=True, subplot_titles=[biomarker])\n",
    "\n",
    "    for person in selected_people:\n",
    "        df = df_raw[df_raw['Name_Device'] == person]\n",
    "\n",
    "        for label in selected_labels:\n",
    "            _df = df[df['Code'] == label]\n",
    "            symbol = markers[labels.index(label)]\n",
    "\n",
    "            fig.add_trace(go.Scatter(\n",
    "                x=_df[\"Time (WIB)\"],\n",
    "                y=_df[biomarker],\n",
    "                mode='markers',\n",
    "                name=f\"{person}-{label}\",\n",
    "                marker=dict(symbol=symbol, size=7)\n",
    "            ))\n",
    "\n",
    "    fig.update_layout(\n",
    "        title=biomarker,\n",
    "        xaxis_title='Time',\n",
    "        yaxis_title='',\n",
    "        height=600,\n",
    "        showlegend=True\n",
    "    )\n",
    "    fig.update_yaxes(overlaying='y', side='right')\n",
    "    return fig\n",
    "\n",
    "if __name__ == '__main__':\n",
    "    app.run(debug=True, host='localhost', port=8040)\n"
   ]
  }
 ],
 "metadata": {
  "kernelspec": {
   "display_name": "base",
   "language": "python",
   "name": "python3"
  },
  "language_info": {
   "codemirror_mode": {
    "name": "ipython",
    "version": 3
   },
   "file_extension": ".py",
   "mimetype": "text/x-python",
   "name": "python",
   "nbconvert_exporter": "python",
   "pygments_lexer": "ipython3",
   "version": "3.9.12"
  }
 },
 "nbformat": 4,
 "nbformat_minor": 2
}
